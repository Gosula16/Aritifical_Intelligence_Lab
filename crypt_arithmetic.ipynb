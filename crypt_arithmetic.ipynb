{
 "cells": [
  {
   "cell_type": "code",
   "execution_count": 1,
   "id": "3a007d3d",
   "metadata": {},
   "outputs": [
    {
     "name": "stdout",
     "output_type": "stream",
     "text": [
      "Solution:\n",
      "D -> 7\n",
      "O -> 0\n",
      "N -> 6\n",
      "M -> 1\n",
      "S -> 9\n",
      "E -> 5\n",
      "R -> 8\n",
      "Y -> 2\n"
     ]
    }
   ],
   "source": [
    "def solveCryptarithmetic(problem):\n",
    "    letters = extractUniqueLetters(problem)\n",
    "    usedDigits = [False] * 10\n",
    "    mapping = {letter: None for letter in letters}\n",
    "    \n",
    "    if solve(letters, usedDigits, mapping, 0, problem):\n",
    "        printSolution(mapping)\n",
    "    else:\n",
    "        print(\"No solution found\")\n",
    "\n",
    "def solve(letters, usedDigits, mapping, index, problem):\n",
    "    if index == len(letters):\n",
    "        return isValid(mapping, problem)\n",
    "\n",
    "    for digit in range(10):\n",
    "        if not usedDigits[digit]:\n",
    "            usedDigits[digit] = True\n",
    "            mapping[letters[index]] = digit\n",
    "            \n",
    "            if solve(letters, usedDigits, mapping, index + 1, problem):\n",
    "                return True\n",
    "            \n",
    "            usedDigits[digit] = False\n",
    "            mapping[letters[index]] = None\n",
    "\n",
    "    return False\n",
    "\n",
    "def isValid(mapping, problem):\n",
    "    translated_problem = problem\n",
    "    for letter, digit in mapping.items():\n",
    "        translated_problem = translated_problem.replace(letter, str(digit))\n",
    "    \n",
    "    try:\n",
    "        return eval(translated_problem)\n",
    "    except Exception:\n",
    "        return False\n",
    "\n",
    "def extractUniqueLetters(problem):\n",
    "    return list(set(filter(str.isalpha, problem)))\n",
    "\n",
    "def printSolution(mapping):\n",
    "    print(\"Solution:\")\n",
    "    for letter, digit in mapping.items():\n",
    "        print(f\"{letter} -> {digit}\")\n",
    "\n",
    "\n",
    "problem =\"SEND+MORE==MONEY\"\n",
    "solveCryptarithmetic(problem)\n"
   ]
  },
  {
   "cell_type": "code",
   "execution_count": null,
   "id": "a7ef180f-7bff-4d43-9de2-054fdf118802",
   "metadata": {},
   "outputs": [],
   "source": []
  }
 ],
 "metadata": {
  "kernelspec": {
   "display_name": "Python 3 (ipykernel)",
   "language": "python",
   "name": "python3"
  },
  "language_info": {
   "codemirror_mode": {
    "name": "ipython",
    "version": 3
   },
   "file_extension": ".py",
   "mimetype": "text/x-python",
   "name": "python",
   "nbconvert_exporter": "python",
   "pygments_lexer": "ipython3",
   "version": "3.11.5"
  }
 },
 "nbformat": 4,
 "nbformat_minor": 5
}

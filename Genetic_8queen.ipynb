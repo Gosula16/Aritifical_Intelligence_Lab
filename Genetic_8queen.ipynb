{
 "cells": [
  {
   "cell_type": "code",
   "execution_count": 53,
   "id": "d3bb61c6",
   "metadata": {},
   "outputs": [
    {
     "name": "stdout",
     "output_type": "stream",
     "text": [
      "* * * * * * Q *\n",
      "* * * * * Q * *\n",
      "* Q * * * * * *\n",
      "* * Q * * * * *\n",
      "* * * * Q * * *\n",
      "* * * Q * * * *\n",
      "* * * * * * * Q\n",
      "Q * * * * * * *\n",
      "Queen positions: [0, 7, 3, 4, 2, 1, 5, 6]\n"
     ]
    }
   ],
   "source": [
    "a1=[]\n",
    "a2=[]\n",
    "import random\n",
    "def create_matrix():\n",
    "    matrix=[['*' for _ in range(8)] for _ in range(8)]\n",
    "    cols=list(range(8))\n",
    "    random.shuffle(cols)\n",
    "    for row in range(8):\n",
    "        matrix[row][cols[row]]='Q'\n",
    "    return matrix\n",
    "def qp(matrix):\n",
    "    return [row.index('Q') for row in reversed(matrix)]\n",
    "matrix = create_matrix()\n",
    "queen_positions=qp(matrix)\n",
    "for row in matrix:\n",
    "    print(' '.join(row))\n",
    "print(\"Queen positions:\",queen_positions)\n",
    "a1=queen_positions"
   ]
  },
  {
   "cell_type": "code",
   "execution_count": 54,
   "id": "4e025eee",
   "metadata": {},
   "outputs": [
    {
     "name": "stdout",
     "output_type": "stream",
     "text": [
      "* * * * * Q * *\n",
      "Q * * * * * * *\n",
      "* Q * * * * * *\n",
      "* * * * * * * Q\n",
      "* * * * * * Q *\n",
      "* * * * Q * * *\n",
      "* * Q * * * * *\n",
      "* * * Q * * * *\n",
      "Queen positions: [3, 2, 4, 6, 7, 1, 0, 5]\n"
     ]
    }
   ],
   "source": [
    "import random\n",
    "def create_matrix():\n",
    "    matrix=[['*' for _ in range(8)] for _ in range(8)]\n",
    "    cols=list(range(8))\n",
    "    random.shuffle(cols)\n",
    "    for row in range(8):\n",
    "        matrix[row][cols[row]]='Q'\n",
    "    return matrix\n",
    "def qp(matrix):\n",
    "    return [row.index('Q') for row in reversed(matrix)]\n",
    "matrix = create_matrix()\n",
    "queen_positions=qp(matrix)\n",
    "for row in matrix:\n",
    "    print(' '.join(row))\n",
    "print(\"Queen positions:\",queen_positions)\n",
    "a2=queen_positions"
   ]
  },
  {
   "cell_type": "code",
   "execution_count": 47,
   "id": "449e17d8",
   "metadata": {},
   "outputs": [
    {
     "name": "stdout",
     "output_type": "stream",
     "text": [
      "[6, 7, 4, 3, 2, 0, 1, 5]\n",
      "[1, 4, 7, 5, 2, 0, 3, 6]\n"
     ]
    }
   ],
   "source": [
    "print(a1)\n",
    "print(a2)"
   ]
  },
  {
   "cell_type": "code",
   "execution_count": 48,
   "id": "801f04fe",
   "metadata": {},
   "outputs": [],
   "source": [
    "import random\n",
    "\n",
    "def fitness_function(array):\n",
    "    fitness_value = 0\n",
    "    n = len(array)\n",
    "    for i in range(n):\n",
    "        for j in range(i + 1, n):\n",
    "            if (array[i] != array[j] and\n",
    "                abs(array[j] - array[i]) != abs(j - i)):\n",
    "                fitness_value += 1\n",
    "    return fitness_value"
   ]
  },
  {
   "cell_type": "code",
   "execution_count": 49,
   "id": "f8d59f00",
   "metadata": {},
   "outputs": [],
   "source": [
    "def mutate(array):\n",
    "    i, j = random.sample(range(len(array)), 2)\n",
    "    array[i], array[j] = array[j], array[i]\n",
    "    return array\n"
   ]
  },
  {
   "cell_type": "code",
   "execution_count": 50,
   "id": "4e971c84",
   "metadata": {},
   "outputs": [],
   "source": [
    "def reproduce(x, y):\n",
    "    point = random.randint(1, len(x) - 1)\n",
    "    child1 = x[:point] + [gene for gene in y if gene not in x[:point]]\n",
    "    child2 = y[:point] + [gene for gene in x if gene not in y[:point]]\n",
    "    return child1, child2"
   ]
  },
  {
   "cell_type": "code",
   "execution_count": 51,
   "id": "8f765722",
   "metadata": {},
   "outputs": [],
   "source": [
    "def random_selection(population):\n",
    "    return random.choice(population)\n"
   ]
  },
  {
   "cell_type": "code",
   "execution_count": 52,
   "id": "6c8557f2",
   "metadata": {},
   "outputs": [
    {
     "name": "stdout",
     "output_type": "stream",
     "text": [
      "Best individual: ([6, 7, 2, 0, 1, 3, 4, 5], 22)\n",
      "Number of iterations: 100\n"
     ]
    }
   ],
   "source": [
    "def genetic_algorithm(population, max_iterations=100):\n",
    "    population = [(ind, fitness_function(ind)) for ind in population]\n",
    "    \n",
    "    iterations = 0\n",
    "    while iterations < max_iterations:\n",
    "        new_population = []\n",
    "        while len(new_population) < len(population):\n",
    "            x, _ = random_selection(population)\n",
    "            y, _ = random_selection(population)\n",
    "            child1, child2 = reproduce(x, y)\n",
    "            \n",
    "            if random.random() < 0.1:\n",
    "                child1 = mutate(child1)\n",
    "            if random.random() < 0.1:\n",
    "                child2 = mutate(child2)\n",
    "                \n",
    "            new_population.append((child1, fitness_function(child1)))\n",
    "            new_population.append((child2, fitness_function(child2)))\n",
    "        \n",
    "        population = [(ind, fitness_function(ind)) for ind, _ in new_population]\n",
    "        best_individual = min(population, key=lambda ind: ind[1])\n",
    "        if best_individual[1] == 0:\n",
    "            break \n",
    "        iterations += 1\n",
    "    return best_individual, iterations\n",
    "population = [a1, a2]\n",
    "best_individual, num_iterations = genetic_algorithm(population)\n",
    "print(\"Best individual:\", best_individual)\n",
    "print(\"Number of iterations:\", num_iterations)\n"
   ]
  },
  {
   "cell_type": "code",
   "execution_count": null,
   "id": "d1d06e21",
   "metadata": {},
   "outputs": [],
   "source": []
  }
 ],
 "metadata": {
  "kernelspec": {
   "display_name": "Python 3 (ipykernel)",
   "language": "python",
   "name": "python3"
  },
  "language_info": {
   "codemirror_mode": {
    "name": "ipython",
    "version": 3
   },
   "file_extension": ".py",
   "mimetype": "text/x-python",
   "name": "python",
   "nbconvert_exporter": "python",
   "pygments_lexer": "ipython3",
   "version": "3.11.5"
  }
 },
 "nbformat": 4,
 "nbformat_minor": 5
}

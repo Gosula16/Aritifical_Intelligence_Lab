{
 "cells": [
  {
   "cell_type": "code",
   "execution_count": 3,
   "id": "377fa65b-33eb-4520-814d-b32f677cb513",
   "metadata": {},
   "outputs": [
    {
     "name": "stdin",
     "output_type": "stream",
     "text": [
      "Enter a sentence to convert into FOL:  All humans are mortal\n"
     ]
    },
    {
     "name": "stdout",
     "output_type": "stream",
     "text": [
      "FOL Expression: ∀x → Mortal(x)\n",
      "Predicates used: ['Mortal']\n",
      "Atomic words: ['all', 'humans', 'are', 'mortal']\n"
     ]
    }
   ],
   "source": [
    "predicates = {\n",
    "    \"mortal\": \"Mortal\",\n",
    "    \"human\": \"Human\",\n",
    "    \"loves\": \"Loves\",\n",
    "    \"man\": \"Man\",\n",
    "    \"woman\": \"Woman\",\n",
    "    \"animal\": \"Animal\",\n",
    "    \"bird\": \"Bird\",\n",
    "    \"flies\": \"Flies\"\n",
    "}\n",
    "\n",
    "quantifiers = {\n",
    "    \"all\": \"∀\",\n",
    "    \"some\": \"∃\"\n",
    "}\n",
    "\n",
    "def parse_sentence(sentence):\n",
    "    words = sentence.lower().split()\n",
    "    fol_expression = \"\"\n",
    "    negation = False\n",
    "    predicates_used = []\n",
    "\n",
    "    for word in words:\n",
    "        if word in quantifiers:\n",
    "            fol_expression += f\"{quantifiers[word]}x \"\n",
    "        elif word == \"not\":\n",
    "            negation = True\n",
    "        elif word in predicates:\n",
    "            predicate = predicates[word]\n",
    "            fol_expression += f\"→ {'¬' if negation else ''}{predicate}(x) \"\n",
    "            predicates_used.append(predicate)\n",
    "            negation = False\n",
    "\n",
    "    return fol_expression.strip(), predicates_used, words\n",
    "\n",
    "input_sentence = input(\"Enter a sentence to convert into FOL: \")\n",
    "\n",
    "fol_expression, predicates_used, atomic_words = parse_sentence(input_sentence)\n",
    "\n",
    "print(f\"FOL Expression: {fol_expression}\")\n",
    "print(f\"Predicates used: {predicates_used}\")\n",
    "print(f\"Atomic words: {atomic_words}\")\n"
   ]
  }
 ],
 "metadata": {
  "kernelspec": {
   "display_name": "Python 3 (ipykernel)",
   "language": "python",
   "name": "python3"
  },
  "language_info": {
   "codemirror_mode": {
    "name": "ipython",
    "version": 3
   },
   "file_extension": ".py",
   "mimetype": "text/x-python",
   "name": "python",
   "nbconvert_exporter": "python",
   "pygments_lexer": "ipython3",
   "version": "3.11.5"
  }
 },
 "nbformat": 4,
 "nbformat_minor": 5
}

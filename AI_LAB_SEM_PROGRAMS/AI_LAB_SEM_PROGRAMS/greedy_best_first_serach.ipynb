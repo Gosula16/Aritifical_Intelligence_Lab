{
 "cells": [
  {
   "cell_type": "code",
   "execution_count": 1,
   "id": "f4dbaaa5",
   "metadata": {},
   "outputs": [],
   "source": [
    "import heapq"
   ]
  },
  {
   "cell_type": "code",
   "execution_count": 16,
   "id": "d712ff85",
   "metadata": {},
   "outputs": [],
   "source": [
    "class graph:\n",
    "    def __init__(self):\n",
    "        self.heuristic={}\n",
    "        self.adjacency={}\n",
    "        \n",
    "    def add_node(self,x):\n",
    "        self.adjacency[x]=[]\n",
    "    \n",
    "    def add_edge(self,x,y,weight):\n",
    "        if x in self.adjacency and y in self.adjacency:\n",
    "            self.adjacency[x].append((y,weight))\n",
    "            self.adjacency[y].append((x,weight))\n",
    "    \n",
    "    def add_heuristic(self,x,h):\n",
    "        self.heuristic[x]=h\n",
    "    \n",
    "    def find_target(self,s,t):\n",
    "        if s not in self.adjacency or t not in self.adjacency:\n",
    "            return \"nodes not found\"\n",
    "        q=[]\n",
    "        heapq.heappush(q,(self.heuristic[s],s))  \n",
    "        came_from={}\n",
    "        came_from[s]=None ##also act as visited here\n",
    "        \n",
    "        while q:\n",
    "            _,cur_node=heapq.heappop(q)\n",
    "            \n",
    "            if cur_node==t:\n",
    "                path=[]\n",
    "                while cur_node is not None:\n",
    "                    path.append(cur_node)\n",
    "                    cur_node=came_from[cur_node]\n",
    "                return path[::-1]\n",
    "            \n",
    "            for neighbour,weight in self.adjacency[cur_node]:\n",
    "                if neighbour not in came_from:\n",
    "                    came_from[neighbour]=cur_node\n",
    "                    heapq.heappush(q,(self.heuristic[neighbour],neighbour))\n",
    "        return \"goal not reachable\""
   ]
  },
  {
   "cell_type": "code",
   "execution_count": 17,
   "id": "08b82caf",
   "metadata": {},
   "outputs": [],
   "source": [
    "g = graph()\n",
    "g.add_node('S')\n",
    "g.add_node('A')\n",
    "g.add_node('B')\n",
    "g.add_node('C')\n",
    "g.add_node('D')\n",
    "g.add_node('E')\n",
    "g.add_node('F')\n",
    "g.add_node('G')\n",
    "g.add_node('H')\n",
    "g.add_node('I')"
   ]
  },
  {
   "cell_type": "code",
   "execution_count": 18,
   "id": "4ff5e6c3",
   "metadata": {},
   "outputs": [],
   "source": [
    "g.add_edge('S','A',3)\n",
    "g.add_edge('S','B',2)\n",
    "g.add_edge('A','C',4)\n",
    "g.add_edge('A','D',1)\n",
    "g.add_edge('B','E',3)\n",
    "g.add_edge('B','F',1)\n",
    "g.add_edge('E','H',5)\n",
    "g.add_edge('F','I',2)\n",
    "g.add_edge('F','G',3)"
   ]
  },
  {
   "cell_type": "code",
   "execution_count": 19,
   "id": "0c722ac1",
   "metadata": {},
   "outputs": [],
   "source": [
    "g.add_heuristic('A', 12)\n",
    "g.add_heuristic('B', 4)\n",
    "g.add_heuristic('C', 7)\n",
    "g.add_heuristic('D', 3)\n",
    "g.add_heuristic('E', 8)\n",
    "g.add_heuristic('F', 2)\n",
    "g.add_heuristic('H', 4)\n",
    "g.add_heuristic('I', 9)\n",
    "g.add_heuristic('S', 13)\n",
    "g.add_heuristic('G', 0)"
   ]
  },
  {
   "cell_type": "code",
   "execution_count": 20,
   "id": "956085bc",
   "metadata": {},
   "outputs": [
    {
     "name": "stdout",
     "output_type": "stream",
     "text": [
      "Path from S to G : ['S', 'B', 'F', 'G']\n"
     ]
    }
   ],
   "source": [
    "start_node = 'S'\n",
    "goal_node = 'G'\n",
    "\n",
    "path = g.find_target(start_node, goal_node)\n",
    "print(\"Path from\", start_node, \"to\", goal_node, \":\", path)"
   ]
  }
 ],
 "metadata": {
  "kernelspec": {
   "display_name": "Python 3 (ipykernel)",
   "language": "python",
   "name": "python3"
  },
  "language_info": {
   "codemirror_mode": {
    "name": "ipython",
    "version": 3
   },
   "file_extension": ".py",
   "mimetype": "text/x-python",
   "name": "python",
   "nbconvert_exporter": "python",
   "pygments_lexer": "ipython3",
   "version": "3.11.4"
  }
 },
 "nbformat": 4,
 "nbformat_minor": 5
}

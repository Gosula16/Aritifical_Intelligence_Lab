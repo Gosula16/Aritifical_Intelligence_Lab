{
 "cells": [
  {
   "cell_type": "code",
   "execution_count": 1,
   "id": "497d18b2",
   "metadata": {},
   "outputs": [],
   "source": [
    "import math\n",
    "import random\n",
    "\n",
    "PLAYER_X, PLAYER_O, EMPTY = 1, 2, 0\n",
    "\n",
    "def print_board(board):\n",
    "    symbols = {EMPTY: '.', PLAYER_X: 'X', PLAYER_O: 'O'}\n",
    "    for row in board:\n",
    "        print(' '.join(symbols[cell] for cell in row))\n",
    "    print()"
   ]
  },
  {
   "cell_type": "code",
   "execution_count": 2,
   "id": "a170e8c9",
   "metadata": {},
   "outputs": [],
   "source": [
    "def check_winner(board, player):\n",
    "    win_patterns = [(0,0,0,1,0,2), (1,0,1,1,1,2), (2,0,2,1,2,2),   # Rows\n",
    "                    (0,0,1,0,2,0), (0,1,1,1,2,1), (0,2,1,2,2,2),   # Columns\n",
    "                    (0,0,1,1,2,2), (0,2,1,1,2,0)]                  # Diagonals\n",
    "    return any(board[x1][y1] == board[x2][y2] == board[x3][y3] == player for x1, y1, x2, y2, x3, y3 in win_patterns)"
   ]
  },
  {
   "cell_type": "code",
   "execution_count": 3,
   "id": "d31bcd02",
   "metadata": {},
   "outputs": [],
   "source": [
    "def alpha_beta(board, player, alpha, beta):\n",
    "    if check_winner(board, PLAYER_X): return 10, None\n",
    "    if check_winner(board, PLAYER_O): return -10, None\n",
    "    if all(cell != EMPTY for row in board for cell in row): return 0, None  # Draw\n",
    "\n",
    "    best_move = None\n",
    "    if player == PLAYER_X:\n",
    "        max_eval = -math.inf\n",
    "        for i, row in enumerate(board):\n",
    "            for j, cell in enumerate(row):\n",
    "                if cell == EMPTY:\n",
    "                    board[i][j] = PLAYER_X\n",
    "                    eval, _ = alpha_beta(board, PLAYER_O, alpha, beta)\n",
    "                    board[i][j] = EMPTY\n",
    "                    if eval > max_eval: max_eval, best_move = eval, (i, j)\n",
    "                    alpha = max(alpha, eval)\n",
    "                    if beta <= alpha: break\n",
    "        return max_eval, best_move\n",
    "    else:\n",
    "        min_eval = math.inf\n",
    "        for i, row in enumerate(board):\n",
    "            for j, cell in enumerate(row):\n",
    "                if cell == EMPTY:\n",
    "                    board[i][j] = PLAYER_O\n",
    "                    eval, _ = alpha_beta(board, PLAYER_X, alpha, beta)\n",
    "                    board[i][j] = EMPTY\n",
    "                    if eval < min_eval: min_eval, best_move = eval, (i, j)\n",
    "                    beta = min(beta, eval)\n",
    "                    if beta <= alpha: break\n",
    "        return min_eval, best_move"
   ]
  },
  {
   "cell_type": "code",
   "execution_count": 4,
   "id": "b3282096",
   "metadata": {},
   "outputs": [],
   "source": [
    "def main():\n",
    "    board = [[EMPTY]*3 for _ in range(3)]\n",
    "    print(\"Initial Board:\")\n",
    "    print_board(board)\n",
    "\n",
    "    while True:\n",
    "        # Player X's move (AI)\n",
    "        _, move = alpha_beta(board, PLAYER_X, -math.inf, math.inf)\n",
    "        if move:\n",
    "            board[move[0]][move[1]] = PLAYER_X\n",
    "            print(\"Player X's move:\")\n",
    "            print_board(board)\n",
    "        if check_winner(board, PLAYER_X): print(\"Player X wins!\"); break\n",
    "        if all(cell != EMPTY for row in board for cell in row): print(\"It's a draw!\"); break\n",
    "\n",
    "        # Player O's move (Random)\n",
    "        move = random.choice([(i, j) for i in range(3) for j in range(3) if board[i][j] == EMPTY])\n",
    "        board[move[0]][move[1]] = PLAYER_O\n",
    "        print(\"Player O's move:\")\n",
    "        print_board(board)\n",
    "        if check_winner(board, PLAYER_O): print(\"Player O wins!\"); break\n",
    "        if all(cell != EMPTY for row in board for cell in row): print(\"It's a draw!\"); break"
   ]
  },
  {
   "cell_type": "code",
   "execution_count": 5,
   "id": "715be5b3",
   "metadata": {},
   "outputs": [
    {
     "name": "stdout",
     "output_type": "stream",
     "text": [
      "Initial Board:\n",
      ". . .\n",
      ". . .\n",
      ". . .\n",
      "\n",
      "Player X's move:\n",
      "X . .\n",
      ". . .\n",
      ". . .\n",
      "\n",
      "Player O's move:\n",
      "X . .\n",
      ". . O\n",
      ". . .\n",
      "\n",
      "Player X's move:\n",
      "X . X\n",
      ". . O\n",
      ". . .\n",
      "\n",
      "Player O's move:\n",
      "X . X\n",
      "O . O\n",
      ". . .\n",
      "\n",
      "Player X's move:\n",
      "X X X\n",
      "O . O\n",
      ". . .\n",
      "\n",
      "Player X wins!\n"
     ]
    }
   ],
   "source": [
    "if __name__ == \"__main__\":\n",
    "    main()"
   ]
  },
  {
   "cell_type": "code",
   "execution_count": null,
   "id": "867ee9d9",
   "metadata": {},
   "outputs": [],
   "source": []
  },
  {
   "cell_type": "code",
   "execution_count": null,
   "id": "1704a28b",
   "metadata": {},
   "outputs": [],
   "source": []
  }
 ],
 "metadata": {
  "kernelspec": {
   "display_name": "Python 3 (ipykernel)",
   "language": "python",
   "name": "python3"
  },
  "language_info": {
   "codemirror_mode": {
    "name": "ipython",
    "version": 3
   },
   "file_extension": ".py",
   "mimetype": "text/x-python",
   "name": "python",
   "nbconvert_exporter": "python",
   "pygments_lexer": "ipython3",
   "version": "3.11.5"
  }
 },
 "nbformat": 4,
 "nbformat_minor": 5
}
